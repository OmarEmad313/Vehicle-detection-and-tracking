{
 "cells": [
  {
   "cell_type": "markdown",
   "metadata": {
    "id": "Nxgdjv-IHRM0"
   },
   "source": [
    "# **<center>Vehicle Detection and tracking with Background Subtraction and Contours.<center>**\n",
    "\n",
    "    \n"
   ]
  },
  {
   "cell_type": "code",
   "execution_count": 2,
   "metadata": {
    "id": "lrJi4G9FHRM-"
   },
   "outputs": [],
   "source": [
    "import cv2\n",
    "import numpy as np\n",
    "import matplotlib.pyplot as plt\n",
    "%matplotlib inline"
   ]
  },
  {
   "cell_type": "code",
   "execution_count": 52,
   "metadata": {},
   "outputs": [],
   "source": [
    "# load a video\n",
    "cap = cv2.VideoCapture('Videos/Dataset/v1.mp4')\n",
    "backgroundobject = cv2.createBackgroundSubtractorMOG2 (history=20,varThreshold=20, detectShadows = True )\n",
    "\n",
    "while(1):\n",
    "    ret, frame = cap.read()  \n",
    "    if not ret:\n",
    "        break\n",
    "        \n",
    "        \n",
    "    # apply the background object on each frame\n",
    "    fgmask = backgroundobject.apply(frame)\n",
    "\n",
    "    # also extracting the real detected foreground part of the image (optional)\n",
    "    real_part = cv2.bitwise_and(frame,frame,mask=fgmask)\n",
    "    \n",
    "    # making fgmask 3 channeled so it can be stacked with others\n",
    "    fgmask_3 = cv2.cvtColor(fgmask, cv2.COLOR_GRAY2BGR)\n",
    "    \n",
    "    # Stack all three frames and show the image\n",
    "    stacked = np.hstack((fgmask_3,frame,real_part))\n",
    "    cv2.imshow('All three',cv2.resize(stacked,None,fx=0.65,fy=0.65))\n",
    " \n",
    "    k = cv2.waitKey(30) &  0xff\n",
    "    if k == 27:\n",
    "        break\n",
    "   \n",
    "cap.release()\n",
    "cv2.destroyAllWindows()"
   ]
  },
  {
   "cell_type": "code",
   "execution_count": 50,
   "metadata": {},
   "outputs": [],
   "source": [
    "\n",
    "video = cv2.VideoCapture('Videos/Dataset/traffic.avi')\n",
    "\n",
    "kernel = None\n",
    "\n",
    "backgroundObject = cv2.createBackgroundSubtractorMOG2(detectShadows = True)\n",
    "#backgroundobject = cv2.createBackgroundSubtractorMOG2 (history=20,varThreshold=20, detectShadows = True )\n",
    "\n",
    "while True:\n",
    "    ret, frame = video.read()\n",
    "    #print(frame).\n",
    "    \n",
    "    if not ret:\n",
    "        \n",
    "\n",
    "        break\n",
    "\n",
    "    # Apply the background object on the frame to get the segmented mask. \n",
    "    fgmask = backgroundObject.apply(frame)\n",
    "    #initialMask = fgmask.copy()\n",
    "    \n",
    "    _, fgmask = cv2.threshold(fgmask, 250, 255, cv2.THRESH_BINARY)\n",
    "    #noisymask = fgmask.copy()\n",
    "    \n",
    "    # Apply some morphological operations \n",
    "    fgmask = cv2.erode(fgmask, kernel, iterations = 1)\n",
    "    fgmask = cv2.dilate(fgmask, kernel, iterations = 2)\n",
    "    \n",
    "    # Detect contours in the frame.\n",
    "    contours, _ = cv2.findContours(fgmask, cv2.RETR_EXTERNAL, cv2.CHAIN_APPROX_SIMPLE)\n",
    "    \n",
    "\n",
    "    frameCopy = frame.copy()\n",
    "    \n",
    "\n",
    "    for cnt in contours:\n",
    "        \n",
    "        if cv2.contourArea(cnt) > 400:\n",
    "            \n",
    "            x, y, width, height = cv2.boundingRect(cnt)\n",
    "            \n",
    "            # Draw a bounding box around the car.\n",
    "            cv2.rectangle(frameCopy, (x , y), (x + width, y + height),(0, 0, 255), 2)\n",
    "\n",
    "            cv2.putText(frameCopy, 'Car Detected', (x, y-10), cv2.FONT_HERSHEY_SIMPLEX, 0.3, (0,255,0), 1, cv2.LINE_AA)\n",
    "   \n",
    "    foregroundPart = cv2.bitwise_and(frame, frame, mask=fgmask)\n",
    "    \n",
    "    stacked = np.hstack((frame, foregroundPart, frameCopy))\n",
    "\n",
    "\n",
    "    cv2.imshow('Original Frame, Extracted Foreground and Detected Cars', cv2.resize(stacked, None, fx=0.5, fy=0.5))\n",
    "    #cv2.imshow('initial Mask', initialMask)\n",
    "    #cv2.imshow('Noisy Mask', noisymask)\n",
    "    #cv2.imshow('Clean Mask', fgmask)\n",
    "\n",
    "\n",
    "    k = cv2.waitKey(1) & 0xff\n",
    "    \n",
    "    if k == ord('q'):\n",
    "\n",
    "        break\n",
    "\n",
    "\n",
    "video.release()\n",
    "\n",
    "cv2.destroyAllWindows()"
   ]
  },
  {
   "cell_type": "code",
   "execution_count": null,
   "metadata": {},
   "outputs": [],
   "source": []
  }
 ],
 "metadata": {
  "colab": {
   "collapsed_sections": [],
   "name": "5 Useful Computer Vision Algorithms Baked Right In OpenCV.ipynb",
   "provenance": [],
   "toc_visible": true
  },
  "kernelspec": {
   "display_name": "Python 3 (ipykernel)",
   "language": "python",
   "name": "python3"
  },
  "language_info": {
   "codemirror_mode": {
    "name": "ipython",
    "version": 3
   },
   "file_extension": ".py",
   "mimetype": "text/x-python",
   "name": "python",
   "nbconvert_exporter": "python",
   "pygments_lexer": "ipython3",
   "version": "3.9.12"
  }
 },
 "nbformat": 4,
 "nbformat_minor": 4
}
